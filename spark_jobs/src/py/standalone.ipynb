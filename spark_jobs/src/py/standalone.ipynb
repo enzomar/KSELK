{
 "cells": [
  {
   "cell_type": "code",
   "execution_count": null,
   "metadata": {},
   "outputs": [],
   "source": [
    "import os\n",
    "os.environ['PYSPARK_SUBMIT_ARGS'] = '--packages org.apache.spark:spark-streaming-kafka-0-10_2.11:2.4.5,org.apache.spark:spark-sql-kafka-0-10_2.11:2.4.5 pyspark-shell'\n",
    "\n",
    "from pyspark.sql import SparkSession\n",
    "from pyspark.sql.functions import explode\n",
    "from pyspark.sql.functions import split\n",
    "from pyspark.sql.functions import from_json\n",
    "from pyspark.sql.types import StructType\n",
    "from pyspark.sql.types import StringType\n",
    "\n",
    "KAFKA_TOPIC_NAME_CONS = \"topic-test\"\n",
    "KAFKA_BOOTSTRAP_SERVERS_CONS = 'kafka:9092'\n",
    "\n",
    "# Set Elasticsearch config\n",
    "es_hostname='elasticsearch'\n",
    "es_portno='9200'\n",
    "es_doc_type_name='demo_index/doc'\n",
    "\n",
    "spark = SparkSession \\\n",
    "    .builder \\\n",
    "    .appName(\"SSKafka\") \\\n",
    "    .getOrCreate()\n",
    "\n",
    "spark.sparkContext.setLogLevel(\"ERROR\")\n",
    "\n",
    "# Create DataFrame representing the stream of input lines from connection to localhost:9999\n",
    "df_message = spark \\\n",
    "    .readStream \\\n",
    "    .format(\"kafka\") \\\n",
    "    .option(\"kafka.bootstrap.servers\", KAFKA_BOOTSTRAP_SERVERS_CONS) \\\n",
    "    .option(\"subscribe\", KAFKA_TOPIC_NAME_CONS) \\\n",
    "    .load()\n",
    "\n",
    "# convert the data into string\n",
    "df_message_string = df_message.selectExpr(\"CAST(value AS STRING) as value\")\n",
    "\n",
    "# define schema to read the Json format data\n",
    "message_schema = StructType() \\\n",
    "    .add('event', StringType())    \n",
    "# parse JSON data\n",
    "df_message_string_parsed = df_message_string.select(from_json(df_message_string.value, message_schema).alias('msg_data'))\n",
    "\n",
    "# Start running the query that prints the running counts to the console\n",
    "queryConsolle = df_message_string_parsed \\\n",
    "    .writeStream \\\n",
    "    .outputMode(\"append\") \\\n",
    "    .format(\"console\") \\\n",
    "    .start()\n",
    "queryConsolle.awaitTermination()\n",
    "'''\n",
    "queryElastic = df_message_string_parsed \\\n",
    "        .writeStream \\\n",
    "        .format(\"es\") \\\n",
    "        .outputMode(\"append\") \\\n",
    "        .option(\"es.nodes\", es_hostname) \\\n",
    "        .option(\"es.port\", es_portno) \\\n",
    "        .option(\"checkpointLocation\", \"checkpoint/send_to_es\") \\\n",
    "        .option('es.resource', es_doc_type_name) \\\n",
    "        .start(\"orders/log\")\n",
    "\n",
    "queryElastic.awaitTermination()\n",
    "'''\n"
   ]
  },
  {
   "cell_type": "code",
   "execution_count": null,
   "metadata": {},
   "outputs": [],
   "source": []
  },
  {
   "cell_type": "code",
   "execution_count": null,
   "metadata": {},
   "outputs": [],
   "source": []
  }
 ],
 "metadata": {
  "kernelspec": {
   "display_name": "Python 3",
   "language": "python",
   "name": "python3"
  },
  "language_info": {
   "codemirror_mode": {
    "name": "ipython",
    "version": 3
   },
   "file_extension": ".py",
   "mimetype": "text/x-python",
   "name": "python",
   "nbconvert_exporter": "python",
   "pygments_lexer": "ipython3",
   "version": "3.7.6"
  }
 },
 "nbformat": 4,
 "nbformat_minor": 4
}
